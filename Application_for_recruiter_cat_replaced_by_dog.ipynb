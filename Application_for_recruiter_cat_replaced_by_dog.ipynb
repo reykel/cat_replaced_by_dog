{
  "nbformat": 4,
  "nbformat_minor": 0,
  "metadata": {
    "colab": {
      "provenance": [],
      "gpuType": "T4",
      "authorship_tag": "ABX9TyPYh3vw4N819bAYT1LMDM1b",
      "include_colab_link": true
    },
    "kernelspec": {
      "name": "python3",
      "display_name": "Python 3"
    },
    "language_info": {
      "name": "python"
    },
    "accelerator": "GPU"
  },
  "cells": [
    {
      "cell_type": "markdown",
      "metadata": {
        "id": "view-in-github",
        "colab_type": "text"
      },
      "source": [
        "<a href=\"https://colab.research.google.com/github/reykel/cat_replaced_by_dog/blob/main/Application_for_recruiter_cat_replaced_by_dog.ipynb\" target=\"_parent\"><img src=\"https://colab.research.google.com/assets/colab-badge.svg\" alt=\"Open In Colab\"/></a>"
      ]
    },
    {
      "cell_type": "code",
      "source": [
        "%pip install torch torchvision opencv-python pillow numpy"
      ],
      "metadata": {
        "colab": {
          "base_uri": "https://localhost:8080/"
        },
        "id": "NPkjDBFPPqqK",
        "outputId": "019dd468-9714-49e1-d903-dc402e260387"
      },
      "execution_count": null,
      "outputs": [
        {
          "output_type": "stream",
          "name": "stdout",
          "text": [
            "Requirement already satisfied: torch in /usr/local/lib/python3.10/dist-packages (2.4.1+cu121)\n",
            "Requirement already satisfied: torchvision in /usr/local/lib/python3.10/dist-packages (0.19.1+cu121)\n",
            "Requirement already satisfied: opencv-python in /usr/local/lib/python3.10/dist-packages (4.10.0.84)\n",
            "Requirement already satisfied: pillow in /usr/local/lib/python3.10/dist-packages (10.4.0)\n",
            "Requirement already satisfied: numpy in /usr/local/lib/python3.10/dist-packages (1.26.4)\n",
            "Requirement already satisfied: filelock in /usr/local/lib/python3.10/dist-packages (from torch) (3.16.1)\n",
            "Requirement already satisfied: typing-extensions>=4.8.0 in /usr/local/lib/python3.10/dist-packages (from torch) (4.12.2)\n",
            "Requirement already satisfied: sympy in /usr/local/lib/python3.10/dist-packages (from torch) (1.13.3)\n",
            "Requirement already satisfied: networkx in /usr/local/lib/python3.10/dist-packages (from torch) (3.3)\n",
            "Requirement already satisfied: jinja2 in /usr/local/lib/python3.10/dist-packages (from torch) (3.1.4)\n",
            "Requirement already satisfied: fsspec in /usr/local/lib/python3.10/dist-packages (from torch) (2024.6.1)\n",
            "Requirement already satisfied: MarkupSafe>=2.0 in /usr/local/lib/python3.10/dist-packages (from jinja2->torch) (2.1.5)\n",
            "Requirement already satisfied: mpmath<1.4,>=1.1.0 in /usr/local/lib/python3.10/dist-packages (from sympy->torch) (1.3.0)\n"
          ]
        }
      ]
    },
    {
      "cell_type": "code",
      "execution_count": null,
      "metadata": {
        "colab": {
          "base_uri": "https://localhost:8080/"
        },
        "id": "cH7L3fApPivE",
        "outputId": "69f3c515-6d2a-4676-b3b5-40ffe1563853"
      },
      "outputs": [
        {
          "output_type": "stream",
          "name": "stderr",
          "text": [
            "Using cache found in /root/.cache/torch/hub/pytorch_vision_v0.10.0\n"
          ]
        },
        {
          "output_type": "stream",
          "name": "stdout",
          "text": [
            "Successfully replaced\n"
          ]
        }
      ],
      "source": [
        "import torch\n",
        "from torchvision import transforms\n",
        "from PIL import Image\n",
        "import numpy as np\n",
        "import cv2\n",
        "\n",
        "def segment_image(cat_image, class_index):\n",
        "    img = Image.open(cat_image).convert('RGB')\n",
        "\n",
        "    preprocess = transforms.Compose([\n",
        "        transforms.Resize((512, 512)),\n",
        "        transforms.ToTensor(),\n",
        "        transforms.Normalize(mean=[0.485, 0.456, 0.406], std=[0.229, 0.224, 0.225])\n",
        "    ])\n",
        "\n",
        "    input_image = preprocess(img).unsqueeze(0)\n",
        "\n",
        "    with torch.no_grad():\n",
        "        output = model(input_image)['out'][0]\n",
        "\n",
        "    output_predictions = output.argmax(0)\n",
        "\n",
        "    cat_mask = output_predictions == class_index\n",
        "\n",
        "    if cat_mask.sum() > 0:\n",
        "        return cat_mask.numpy()\n",
        "    else:\n",
        "        return None\n",
        "\n",
        "def remove_cat_and_add_dog(cat_image, dog_image):\n",
        "    cat_mask = segment_image(cat_image, 8)\n",
        "    if cat_mask is None:\n",
        "        print(\"No cat detected\")\n",
        "        return\n",
        "\n",
        "    img = cv2.imread(cat_image)\n",
        "\n",
        "    cat_mask_resized = cv2.resize(cat_mask.astype(np.uint8), (img.shape[1], img.shape[0]))\n",
        "\n",
        "    inpainted_img = cv2.inpaint(img, cat_mask_resized, inpaintRadius=7, flags=cv2.INPAINT_TELEA)\n",
        "\n",
        "    dog_mask = segment_image(dog_image, 12)\n",
        "    if dog_mask is None:\n",
        "        print(\"No dog detected\")\n",
        "        return\n",
        "\n",
        "    dog_img = cv2.imread(dog_image)\n",
        "\n",
        "    dog_img_resized = cv2.resize(dog_img, (img.shape[1], img.shape[0]))\n",
        "    dog_mask_resized = cv2.resize(dog_mask.astype(np.uint8), (img.shape[1], img.shape[0]))\n",
        "\n",
        "    inpainted_img[dog_mask_resized > 0] = dog_img_resized[dog_mask_resized > 0]\n",
        "\n",
        "    cv2.imwrite('final_image.jpg', inpainted_img)\n",
        "\n",
        "    return inpainted_img\n",
        "\n",
        "def segment_and_replace_cat_with_dog(cat_image, dog_image):\n",
        "    result_img = remove_cat_and_add_dog(cat_image, dog_image)\n",
        "    if result_img is not None:\n",
        "        print(\"Successfully replaced\")\n",
        "    else:\n",
        "        print(\"Operation failed\")\n",
        "\n",
        "\n",
        "model = torch.hub.load('pytorch/vision:v0.10.0', 'deeplabv3_resnet101', pretrained=True)\n",
        "model.eval()\n",
        "\n",
        "cat_image = 'cat.jpg'\n",
        "dog_image = 'dog.jpg'\n",
        "\n",
        "segment_and_replace_cat_with_dog(cat_image, dog_image)\n"
      ]
    }
  ]
}